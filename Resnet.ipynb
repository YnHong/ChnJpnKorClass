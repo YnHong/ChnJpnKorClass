{
 "cells": [
  {
   "cell_type": "code",
   "execution_count": 16,
   "metadata": {
    "collapsed": true
   },
   "outputs": [],
   "source": [
    "from PIL import Image as pil\n",
    "import numpy as np\n",
    "import pandas as pd\n",
    "from IPython.core.debugger import set_trace\n",
    "\n",
    "%matplotlib inline\n",
    "%config InlineBackend.figure_formats = {'png', 'retina'}\n",
    "\n",
    "import matplotlib as mpl\n",
    "import matplotlib.pyplot as plt\n",
    "import seaborn as sns\n",
    "\n",
    "import torch\n",
    "import torch.nn as nn\n",
    "import torch.optim as optim\n",
    "from torch.utils.data import DataLoader, TensorDataset\n",
    "from torch.utils.data import sampler\n",
    "\n",
    "import torchvision.datasets as dset\n",
    "import torchvision.transforms as T\n",
    "import torch.nn.functional as F\n",
    "from keras.preprocessing.image import ImageDataGenerator\n",
    "from torchvision import models\n",
    "from torchsummary import summary\n",
    "\n",
    "import pickle"
   ]
  },
  {
   "cell_type": "code",
   "execution_count": 18,
   "metadata": {
    "collapsed": true
   },
   "outputs": [],
   "source": [
    "from torch_arrange import random_weight, zero_weight, flatten, check_accuracy, train"
   ]
  },
  {
   "cell_type": "code",
   "execution_count": 3,
   "metadata": {
    "collapsed": true
   },
   "outputs": [],
   "source": [
    "LOADED = False"
   ]
  },
  {
   "cell_type": "code",
   "execution_count": 4,
   "metadata": {
    "collapsed": true
   },
   "outputs": [],
   "source": [
    "if LOADED == False:\n",
    "    fname_Xaug = 'Xaug.pkl'\n",
    "    fname_Yaug = 'Yaug.pkl'\n",
    "    fname_Xtest = 'Xtest.pkl'\n",
    "    fname_Ytest = 'Ytest.pkl'\n",
    "    X_train_new = pickle.load(open(fname_Xaug,'rb'),)\n",
    "    Y_train_new = pickle.load(open(fname_Yaug,'rb'),)\n",
    "    X_test = pickle.load(open(fname_Xtest,'rb'),)\n",
    "    y_test = pickle.load(open(fname_Ytest,'rb'),)\n",
    "    LOADED = True\n",
    "else :\n",
    "    pass"
   ]
  },
  {
   "cell_type": "code",
   "execution_count": 5,
   "metadata": {
    "collapsed": true
   },
   "outputs": [],
   "source": [
    "model = models.resnet18(pretrained=False,)"
   ]
  },
  {
   "cell_type": "code",
   "execution_count": 6,
   "metadata": {
    "collapsed": true
   },
   "outputs": [],
   "source": [
    "model.avgpool = nn.AvgPool2d(kernel_size=3, stride=1, padding=0)"
   ]
  },
  {
   "cell_type": "code",
   "execution_count": 7,
   "metadata": {
    "collapsed": true
   },
   "outputs": [],
   "source": [
    "model.fc = nn.Linear(in_features=512, out_features=3, bias=True)"
   ]
  },
  {
   "cell_type": "code",
   "execution_count": 8,
   "metadata": {
    "collapsed": false,
    "scrolled": true
   },
   "outputs": [
    {
     "name": "stdout",
     "output_type": "stream",
     "text": [
      "----------------------------------------------------------------\n",
      "        Layer (type)               Output Shape         Param #\n",
      "================================================================\n",
      "            Conv2d-1           [-1, 64, 40, 40]           9,408\n",
      "       BatchNorm2d-2           [-1, 64, 40, 40]             128\n",
      "              ReLU-3           [-1, 64, 40, 40]               0\n",
      "         MaxPool2d-4           [-1, 64, 20, 20]               0\n",
      "            Conv2d-5           [-1, 64, 20, 20]          36,864\n",
      "       BatchNorm2d-6           [-1, 64, 20, 20]             128\n",
      "              ReLU-7           [-1, 64, 20, 20]               0\n",
      "            Conv2d-8           [-1, 64, 20, 20]          36,864\n",
      "       BatchNorm2d-9           [-1, 64, 20, 20]             128\n",
      "             ReLU-10           [-1, 64, 20, 20]               0\n",
      "       BasicBlock-11           [-1, 64, 20, 20]               0\n",
      "           Conv2d-12           [-1, 64, 20, 20]          36,864\n",
      "      BatchNorm2d-13           [-1, 64, 20, 20]             128\n",
      "             ReLU-14           [-1, 64, 20, 20]               0\n",
      "           Conv2d-15           [-1, 64, 20, 20]          36,864\n",
      "      BatchNorm2d-16           [-1, 64, 20, 20]             128\n",
      "             ReLU-17           [-1, 64, 20, 20]               0\n",
      "       BasicBlock-18           [-1, 64, 20, 20]               0\n",
      "           Conv2d-19          [-1, 128, 10, 10]          73,728\n",
      "      BatchNorm2d-20          [-1, 128, 10, 10]             256\n",
      "             ReLU-21          [-1, 128, 10, 10]               0\n",
      "           Conv2d-22          [-1, 128, 10, 10]         147,456\n",
      "      BatchNorm2d-23          [-1, 128, 10, 10]             256\n",
      "           Conv2d-24          [-1, 128, 10, 10]           8,192\n",
      "      BatchNorm2d-25          [-1, 128, 10, 10]             256\n",
      "             ReLU-26          [-1, 128, 10, 10]               0\n",
      "       BasicBlock-27          [-1, 128, 10, 10]               0\n",
      "           Conv2d-28          [-1, 128, 10, 10]         147,456\n",
      "      BatchNorm2d-29          [-1, 128, 10, 10]             256\n",
      "             ReLU-30          [-1, 128, 10, 10]               0\n",
      "           Conv2d-31          [-1, 128, 10, 10]         147,456\n",
      "      BatchNorm2d-32          [-1, 128, 10, 10]             256\n",
      "             ReLU-33          [-1, 128, 10, 10]               0\n",
      "       BasicBlock-34          [-1, 128, 10, 10]               0\n",
      "           Conv2d-35            [-1, 256, 5, 5]         294,912\n",
      "      BatchNorm2d-36            [-1, 256, 5, 5]             512\n",
      "             ReLU-37            [-1, 256, 5, 5]               0\n",
      "           Conv2d-38            [-1, 256, 5, 5]         589,824\n",
      "      BatchNorm2d-39            [-1, 256, 5, 5]             512\n",
      "           Conv2d-40            [-1, 256, 5, 5]          32,768\n",
      "      BatchNorm2d-41            [-1, 256, 5, 5]             512\n",
      "             ReLU-42            [-1, 256, 5, 5]               0\n",
      "       BasicBlock-43            [-1, 256, 5, 5]               0\n",
      "           Conv2d-44            [-1, 256, 5, 5]         589,824\n",
      "      BatchNorm2d-45            [-1, 256, 5, 5]             512\n",
      "             ReLU-46            [-1, 256, 5, 5]               0\n",
      "           Conv2d-47            [-1, 256, 5, 5]         589,824\n",
      "      BatchNorm2d-48            [-1, 256, 5, 5]             512\n",
      "             ReLU-49            [-1, 256, 5, 5]               0\n",
      "       BasicBlock-50            [-1, 256, 5, 5]               0\n",
      "           Conv2d-51            [-1, 512, 3, 3]       1,179,648\n",
      "      BatchNorm2d-52            [-1, 512, 3, 3]           1,024\n",
      "             ReLU-53            [-1, 512, 3, 3]               0\n",
      "           Conv2d-54            [-1, 512, 3, 3]       2,359,296\n",
      "      BatchNorm2d-55            [-1, 512, 3, 3]           1,024\n",
      "           Conv2d-56            [-1, 512, 3, 3]         131,072\n",
      "      BatchNorm2d-57            [-1, 512, 3, 3]           1,024\n",
      "             ReLU-58            [-1, 512, 3, 3]               0\n",
      "       BasicBlock-59            [-1, 512, 3, 3]               0\n",
      "           Conv2d-60            [-1, 512, 3, 3]       2,359,296\n",
      "      BatchNorm2d-61            [-1, 512, 3, 3]           1,024\n",
      "             ReLU-62            [-1, 512, 3, 3]               0\n",
      "           Conv2d-63            [-1, 512, 3, 3]       2,359,296\n",
      "      BatchNorm2d-64            [-1, 512, 3, 3]           1,024\n",
      "             ReLU-65            [-1, 512, 3, 3]               0\n",
      "       BasicBlock-66            [-1, 512, 3, 3]               0\n",
      "        AvgPool2d-67            [-1, 512, 1, 1]               0\n",
      "           Linear-68                    [-1, 3]           1,539\n",
      "================================================================\n",
      "Total params: 11,178,051\n",
      "Trainable params: 11,178,051\n",
      "Non-trainable params: 0\n",
      "----------------------------------------------------------------\n",
      "Input size (MB): 0.07\n",
      "Forward/backward pass size (MB): 8.18\n",
      "Params size (MB): 42.64\n",
      "Estimated Total Size (MB): 50.90\n",
      "----------------------------------------------------------------\n"
     ]
    }
   ],
   "source": [
    "summary(model, (3, 80, 80))"
   ]
  },
  {
   "cell_type": "code",
   "execution_count": 9,
   "metadata": {
    "collapsed": true
   },
   "outputs": [],
   "source": [
    "# 모든 parameter TRAINABLE 상태로 변경\n",
    "for param in model.parameters():\n",
    "    param.requires_grad = True"
   ]
  },
  {
   "cell_type": "code",
   "execution_count": 10,
   "metadata": {
    "collapsed": false
   },
   "outputs": [
    {
     "data": {
      "text/plain": [
       "ResNet(\n",
       "  (conv1): Conv2d(3, 64, kernel_size=(7, 7), stride=(2, 2), padding=(3, 3), bias=False)\n",
       "  (bn1): BatchNorm2d(64, eps=1e-05, momentum=0.1, affine=True, track_running_stats=True)\n",
       "  (relu): ReLU(inplace)\n",
       "  (maxpool): MaxPool2d(kernel_size=3, stride=2, padding=1, dilation=1, ceil_mode=False)\n",
       "  (layer1): Sequential(\n",
       "    (0): BasicBlock(\n",
       "      (conv1): Conv2d(64, 64, kernel_size=(3, 3), stride=(1, 1), padding=(1, 1), bias=False)\n",
       "      (bn1): BatchNorm2d(64, eps=1e-05, momentum=0.1, affine=True, track_running_stats=True)\n",
       "      (relu): ReLU(inplace)\n",
       "      (conv2): Conv2d(64, 64, kernel_size=(3, 3), stride=(1, 1), padding=(1, 1), bias=False)\n",
       "      (bn2): BatchNorm2d(64, eps=1e-05, momentum=0.1, affine=True, track_running_stats=True)\n",
       "    )\n",
       "    (1): BasicBlock(\n",
       "      (conv1): Conv2d(64, 64, kernel_size=(3, 3), stride=(1, 1), padding=(1, 1), bias=False)\n",
       "      (bn1): BatchNorm2d(64, eps=1e-05, momentum=0.1, affine=True, track_running_stats=True)\n",
       "      (relu): ReLU(inplace)\n",
       "      (conv2): Conv2d(64, 64, kernel_size=(3, 3), stride=(1, 1), padding=(1, 1), bias=False)\n",
       "      (bn2): BatchNorm2d(64, eps=1e-05, momentum=0.1, affine=True, track_running_stats=True)\n",
       "    )\n",
       "  )\n",
       "  (layer2): Sequential(\n",
       "    (0): BasicBlock(\n",
       "      (conv1): Conv2d(64, 128, kernel_size=(3, 3), stride=(2, 2), padding=(1, 1), bias=False)\n",
       "      (bn1): BatchNorm2d(128, eps=1e-05, momentum=0.1, affine=True, track_running_stats=True)\n",
       "      (relu): ReLU(inplace)\n",
       "      (conv2): Conv2d(128, 128, kernel_size=(3, 3), stride=(1, 1), padding=(1, 1), bias=False)\n",
       "      (bn2): BatchNorm2d(128, eps=1e-05, momentum=0.1, affine=True, track_running_stats=True)\n",
       "      (downsample): Sequential(\n",
       "        (0): Conv2d(64, 128, kernel_size=(1, 1), stride=(2, 2), bias=False)\n",
       "        (1): BatchNorm2d(128, eps=1e-05, momentum=0.1, affine=True, track_running_stats=True)\n",
       "      )\n",
       "    )\n",
       "    (1): BasicBlock(\n",
       "      (conv1): Conv2d(128, 128, kernel_size=(3, 3), stride=(1, 1), padding=(1, 1), bias=False)\n",
       "      (bn1): BatchNorm2d(128, eps=1e-05, momentum=0.1, affine=True, track_running_stats=True)\n",
       "      (relu): ReLU(inplace)\n",
       "      (conv2): Conv2d(128, 128, kernel_size=(3, 3), stride=(1, 1), padding=(1, 1), bias=False)\n",
       "      (bn2): BatchNorm2d(128, eps=1e-05, momentum=0.1, affine=True, track_running_stats=True)\n",
       "    )\n",
       "  )\n",
       "  (layer3): Sequential(\n",
       "    (0): BasicBlock(\n",
       "      (conv1): Conv2d(128, 256, kernel_size=(3, 3), stride=(2, 2), padding=(1, 1), bias=False)\n",
       "      (bn1): BatchNorm2d(256, eps=1e-05, momentum=0.1, affine=True, track_running_stats=True)\n",
       "      (relu): ReLU(inplace)\n",
       "      (conv2): Conv2d(256, 256, kernel_size=(3, 3), stride=(1, 1), padding=(1, 1), bias=False)\n",
       "      (bn2): BatchNorm2d(256, eps=1e-05, momentum=0.1, affine=True, track_running_stats=True)\n",
       "      (downsample): Sequential(\n",
       "        (0): Conv2d(128, 256, kernel_size=(1, 1), stride=(2, 2), bias=False)\n",
       "        (1): BatchNorm2d(256, eps=1e-05, momentum=0.1, affine=True, track_running_stats=True)\n",
       "      )\n",
       "    )\n",
       "    (1): BasicBlock(\n",
       "      (conv1): Conv2d(256, 256, kernel_size=(3, 3), stride=(1, 1), padding=(1, 1), bias=False)\n",
       "      (bn1): BatchNorm2d(256, eps=1e-05, momentum=0.1, affine=True, track_running_stats=True)\n",
       "      (relu): ReLU(inplace)\n",
       "      (conv2): Conv2d(256, 256, kernel_size=(3, 3), stride=(1, 1), padding=(1, 1), bias=False)\n",
       "      (bn2): BatchNorm2d(256, eps=1e-05, momentum=0.1, affine=True, track_running_stats=True)\n",
       "    )\n",
       "  )\n",
       "  (layer4): Sequential(\n",
       "    (0): BasicBlock(\n",
       "      (conv1): Conv2d(256, 512, kernel_size=(3, 3), stride=(2, 2), padding=(1, 1), bias=False)\n",
       "      (bn1): BatchNorm2d(512, eps=1e-05, momentum=0.1, affine=True, track_running_stats=True)\n",
       "      (relu): ReLU(inplace)\n",
       "      (conv2): Conv2d(512, 512, kernel_size=(3, 3), stride=(1, 1), padding=(1, 1), bias=False)\n",
       "      (bn2): BatchNorm2d(512, eps=1e-05, momentum=0.1, affine=True, track_running_stats=True)\n",
       "      (downsample): Sequential(\n",
       "        (0): Conv2d(256, 512, kernel_size=(1, 1), stride=(2, 2), bias=False)\n",
       "        (1): BatchNorm2d(512, eps=1e-05, momentum=0.1, affine=True, track_running_stats=True)\n",
       "      )\n",
       "    )\n",
       "    (1): BasicBlock(\n",
       "      (conv1): Conv2d(512, 512, kernel_size=(3, 3), stride=(1, 1), padding=(1, 1), bias=False)\n",
       "      (bn1): BatchNorm2d(512, eps=1e-05, momentum=0.1, affine=True, track_running_stats=True)\n",
       "      (relu): ReLU(inplace)\n",
       "      (conv2): Conv2d(512, 512, kernel_size=(3, 3), stride=(1, 1), padding=(1, 1), bias=False)\n",
       "      (bn2): BatchNorm2d(512, eps=1e-05, momentum=0.1, affine=True, track_running_stats=True)\n",
       "    )\n",
       "  )\n",
       "  (avgpool): AvgPool2d(kernel_size=3, stride=1, padding=0)\n",
       "  (fc): Linear(in_features=512, out_features=3, bias=True)\n",
       ")"
      ]
     },
     "execution_count": 10,
     "metadata": {},
     "output_type": "execute_result"
    }
   ],
   "source": [
    "model"
   ]
  },
  {
   "cell_type": "code",
   "execution_count": 11,
   "metadata": {
    "collapsed": true
   },
   "outputs": [],
   "source": [
    "a = torch.from_numpy(X_train_new) \n",
    "b = torch.from_numpy(Y_train_new)\n",
    "train_data = TensorDataset(a, b)\n",
    "\n",
    "NUM_TRAIN = 20000\n",
    "train_loader = DataLoader(train_data,batch_size= 64, sampler = sampler.SubsetRandomSampler(range(NUM_TRAIN)))\n",
    "val_loader = DataLoader(train_data,batch_size= 64, sampler = sampler.SubsetRandomSampler(range(NUM_TRAIN,21930)))\n",
    "\n",
    "c = torch.from_numpy(X_test) \n",
    "d = torch.from_numpy(y_test)\n",
    "test_data = TensorDataset(c, d)\n",
    "test_loader = DataLoader(test_data,batch_size= 64)\n"
   ]
  },
  {
   "cell_type": "code",
   "execution_count": 12,
   "metadata": {
    "collapsed": false
   },
   "outputs": [
    {
     "name": "stdout",
     "output_type": "stream",
     "text": [
      "device is  cpu\n"
     ]
    }
   ],
   "source": [
    "USE_GPU = True\n",
    "if USE_GPU == True and torch.cuda.is_available() == True :\n",
    "    device = torch.device('cuda')\n",
    "else : \n",
    "    device = torch.device('cpu')\n",
    "    \n",
    "dtype = torch.float32\n",
    "print_every = 100\n",
    "print('device is ', device)"
   ]
  },
  {
   "cell_type": "code",
   "execution_count": 69,
   "metadata": {
    "collapsed": false
   },
   "outputs": [
    {
     "data": {
      "text/plain": [
       "tensor([[-0.8325,  1.9568,  0.8192,  0.1374,  1.1156],\n",
       "        [-0.3931,  0.1464,  0.7893,  0.1792, -0.6073],\n",
       "        [-0.3999, -0.5234, -0.3062, -1.0564,  0.0190]], requires_grad=True)"
      ]
     },
     "execution_count": 69,
     "metadata": {},
     "output_type": "execute_result"
    }
   ],
   "source": [
    "def random_weight(shape):\n",
    "    \"\"\"\n",
    "    Create random Tensors for weights; setting requires_grad=True means that we\n",
    "    want to compute gradients for these Tensors during the backward pass.\n",
    "    We use Kaiming normalization: sqrt(2 / fan_in)\n",
    "    \"\"\"\n",
    "    if len(shape) == 2:  # FC weight\n",
    "        fan_in = shape[0]\n",
    "    else:\n",
    "        fan_in = np.prod(shape[1:]) # conv weight [out_channel, in_channel, kH, kW]\n",
    "    # randn is standard normal distribution generator. \n",
    "    w = torch.randn(shape, device=device, dtype=dtype) * np.sqrt(2. / fan_in)\n",
    "    w.requires_grad = True\n",
    "    return w\n",
    "\n",
    "def zero_weight(shape):\n",
    "    return torch.zeros(shape, device=device, dtype=dtype, requires_grad=True)\n",
    "\n",
    "# create a weight of shape [3 x 5]\n",
    "# you should see the type `torch.cuda.FloatTensor` if you use GPU. \n",
    "# Otherwise it should be `torch.FloatTensor`\n",
    "random_weight((3, 5))"
   ]
  },
  {
   "cell_type": "code",
   "execution_count": 70,
   "metadata": {
    "collapsed": true
   },
   "outputs": [],
   "source": [
    "def check_accuracy(loader, model, data = 'val'):\n",
    "    if data == 'val':\n",
    "        print('Checking accuracy on validation set')\n",
    "    else:\n",
    "        print('Checking accuracy on test set')   \n",
    "    num_correct = 0\n",
    "    num_samples = 0\n",
    "    model.eval()  # set model to evaluation mode\n",
    "    with torch.no_grad():\n",
    "        for x, y in loader:\n",
    "            x = x.to(device=device, dtype=dtype)  # move to device, e.g. GPU\n",
    "            y = y.to(device=device, dtype=torch.long)\n",
    "            scores = model(x)\n",
    "            _, preds = scores.max(1)\n",
    "            num_correct += (preds == y).sum()\n",
    "            num_samples += preds.size(0)\n",
    "        acc = float(num_correct) / num_samples\n",
    "        print('Got %d / %d correct (%.2f)' % (num_correct, num_samples, 100 * acc))"
   ]
  },
  {
   "cell_type": "code",
   "execution_count": 71,
   "metadata": {
    "collapsed": true
   },
   "outputs": [],
   "source": [
    "def train(model, optimizer, epochs=1):\n",
    "    \"\"\"\n",
    "    Train a model on CIFAR-10 using the PyTorch Module API.\n",
    "    \n",
    "    Inputs:\n",
    "    - model: A PyTorch Module giving the model to train.\n",
    "    - optimizer: An Optimizer object we will use to train the model\n",
    "    - epochs: (Optional) A Python integer giving the number of epochs to train for\n",
    "    \n",
    "    Returns: Nothing, but prints model accuracies during training.\n",
    "    \"\"\"\n",
    "    model = model.to(device=device)  # move the model parameters to CPU/GPU\n",
    "    for e in range(epochs):\n",
    "        for t, (x, y) in enumerate(train_loader):\n",
    "            model.train()  # put model to training mode\n",
    "            x = x.to(device=device, dtype=dtype)  # move to device, e.g. GPU\n",
    "            y = y.to(device=device, dtype=torch.long)\n",
    "\n",
    "            scores = model(x)\n",
    "#             print(scores)\n",
    "#             print(y)\n",
    "            loss = F.cross_entropy(scores, y)\n",
    "\n",
    "            # Zero out all of the gradients for the variables which the optimizer\n",
    "            # will update.\n",
    "            optimizer.zero_grad()\n",
    "\n",
    "            # This is the backwards pass: compute the gradient of the loss with\n",
    "            # respect to each  parameter of the model.\n",
    "            loss.backward()\n",
    "\n",
    "            # Actually update the parameters of the model using the gradients\n",
    "            # computed by the backwards pass.\n",
    "            optimizer.step()\n",
    "\n",
    "            if t % print_every == 0:\n",
    "                print('Iteration %d, loss = %.4f' % (t, loss.item()))\n",
    "                check_accuracy(val_loader, model)\n",
    "                print()"
   ]
  },
  {
   "cell_type": "code",
   "execution_count": 15,
   "metadata": {
    "collapsed": false
   },
   "outputs": [
    {
     "ename": "TypeError",
     "evalue": "train() got multiple values for argument 'epochs'",
     "output_type": "error",
     "traceback": [
      "\u001b[0;31m---------------------------------------------------------------------------\u001b[0m",
      "\u001b[0;31mTypeError\u001b[0m                                 Traceback (most recent call last)",
      "\u001b[0;32m<ipython-input-15-522e13040abb>\u001b[0m in \u001b[0;36m<module>\u001b[0;34m()\u001b[0m\n\u001b[1;32m      7\u001b[0m \u001b[0;34m\u001b[0m\u001b[0m\n\u001b[1;32m      8\u001b[0m \u001b[0;34m\u001b[0m\u001b[0m\n\u001b[0;32m----> 9\u001b[0;31m \u001b[0mtrain\u001b[0m\u001b[0;34m(\u001b[0m\u001b[0mmodel\u001b[0m\u001b[0;34m,\u001b[0m\u001b[0moptimizer\u001b[0m\u001b[0;34m,\u001b[0m\u001b[0mdevice\u001b[0m\u001b[0;34m,\u001b[0m\u001b[0mepochs\u001b[0m\u001b[0;34m=\u001b[0m\u001b[0;36m1\u001b[0m\u001b[0;34m)\u001b[0m\u001b[0;34m\u001b[0m\u001b[0m\n\u001b[0m",
      "\u001b[0;31mTypeError\u001b[0m: train() got multiple values for argument 'epochs'"
     ]
    }
   ],
   "source": [
    "learning_rate = 1e-3\n",
    "\n",
    "optimizer = optim.Adam(model.parameters(), lr=learning_rate)\n",
    "\n",
    "# Print training status every epoch: set print_every to a large number\n",
    "print_every = 100\n",
    "\n",
    "\n",
    "train(model,optimizer,epochs=1)"
   ]
  },
  {
   "cell_type": "code",
   "execution_count": 73,
   "metadata": {
    "collapsed": false
   },
   "outputs": [
    {
     "name": "stdout",
     "output_type": "stream",
     "text": [
      "Checking accuracy on test set\n",
      "Got 67 / 82 correct (81.71)\n"
     ]
    }
   ],
   "source": [
    "check_accuracy(test_loader, model, data = 'test')"
   ]
  },
  {
   "cell_type": "code",
   "execution_count": null,
   "metadata": {
    "collapsed": true
   },
   "outputs": [],
   "source": []
  }
 ],
 "metadata": {
  "kernelspec": {
   "display_name": "Python 3",
   "language": "python",
   "name": "python3"
  },
  "language_info": {
   "codemirror_mode": {
    "name": "ipython",
    "version": 3
   },
   "file_extension": ".py",
   "mimetype": "text/x-python",
   "name": "python",
   "nbconvert_exporter": "python",
   "pygments_lexer": "ipython3",
   "version": "3.6.7"
  }
 },
 "nbformat": 4,
 "nbformat_minor": 2
}
